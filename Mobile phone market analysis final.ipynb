{
 "cells": [
  {
   "cell_type": "markdown",
   "id": "5b2d6731-5e89-4aa7-87eb-07a2b19b388d",
   "metadata": {},
   "source": [
    "# 📊 Market Entry Decision for a Mobile Phone Company\n",
    "\n",
    "## 🎯 Objective\n",
    "To determine whether a mobile phone manufacturing company should enter the Indian market using data-driven insights from the Chinese market, logistic regression modeling, and customer segmentation via clustering.\n"
   ]
  },
  {
   "cell_type": "code",
   "execution_count": 23,
   "id": "2bad29e0-c2de-479f-ba4b-e033274b09f2",
   "metadata": {},
   "outputs": [],
   "source": [
    "import pandas as pd\n",
    "import numpy as np"
   ]
  },
  {
   "cell_type": "code",
   "execution_count": 24,
   "id": "348ec6fc-813e-46a2-ae33-b0ca0e26372e",
   "metadata": {},
   "outputs": [
    {
     "data": {
      "text/html": [
       "<div>\n",
       "<style scoped>\n",
       "    .dataframe tbody tr th:only-of-type {\n",
       "        vertical-align: middle;\n",
       "    }\n",
       "\n",
       "    .dataframe tbody tr th {\n",
       "        vertical-align: top;\n",
       "    }\n",
       "\n",
       "    .dataframe thead th {\n",
       "        text-align: right;\n",
       "    }\n",
       "</style>\n",
       "<table border=\"1\" class=\"dataframe\">\n",
       "  <thead>\n",
       "    <tr style=\"text-align: right;\">\n",
       "      <th></th>\n",
       "      <th>ID</th>\n",
       "      <th>CURR_AGE</th>\n",
       "      <th>GENDER</th>\n",
       "      <th>ANN_INCOME</th>\n",
       "      <th>DT_OLD_PURCHASE</th>\n",
       "    </tr>\n",
       "  </thead>\n",
       "  <tbody>\n",
       "    <tr>\n",
       "      <th>0</th>\n",
       "      <td>20710B05XL</td>\n",
       "      <td>54</td>\n",
       "      <td>M</td>\n",
       "      <td>1425390</td>\n",
       "      <td>2018-04-20</td>\n",
       "    </tr>\n",
       "    <tr>\n",
       "      <th>1</th>\n",
       "      <td>89602T51HX</td>\n",
       "      <td>47</td>\n",
       "      <td>M</td>\n",
       "      <td>1678954</td>\n",
       "      <td>2018-06-08</td>\n",
       "    </tr>\n",
       "    <tr>\n",
       "      <th>2</th>\n",
       "      <td>70190Z52IP</td>\n",
       "      <td>60</td>\n",
       "      <td>M</td>\n",
       "      <td>931624</td>\n",
       "      <td>2017-07-31</td>\n",
       "    </tr>\n",
       "    <tr>\n",
       "      <th>3</th>\n",
       "      <td>25623V15MU</td>\n",
       "      <td>55</td>\n",
       "      <td>F</td>\n",
       "      <td>1106320</td>\n",
       "      <td>2017-07-31</td>\n",
       "    </tr>\n",
       "    <tr>\n",
       "      <th>4</th>\n",
       "      <td>36230I68CE</td>\n",
       "      <td>32</td>\n",
       "      <td>F</td>\n",
       "      <td>748465</td>\n",
       "      <td>2019-01-27</td>\n",
       "    </tr>\n",
       "  </tbody>\n",
       "</table>\n",
       "</div>"
      ],
      "text/plain": [
       "           ID  CURR_AGE GENDER  ANN_INCOME DT_OLD_PURCHASE\n",
       "0  20710B05XL        54      M     1425390      2018-04-20\n",
       "1  89602T51HX        47      M     1678954      2018-06-08\n",
       "2  70190Z52IP        60      M      931624      2017-07-31\n",
       "3  25623V15MU        55      F     1106320      2017-07-31\n",
       "4  36230I68CE        32      F      748465      2019-01-27"
      ]
     },
     "execution_count": 24,
     "metadata": {},
     "output_type": "execute_result"
    }
   ],
   "source": [
    "df_IN=pd.read_excel(r\"C:\\Users\\HP\\Downloads\\IN_Mobiles+-+Data.xlsx\")\n",
    "df_IN.head()"
   ]
  },
  {
   "cell_type": "code",
   "execution_count": 25,
   "id": "3e6995d3-12bb-4d8f-a183-a81820e1690e",
   "metadata": {},
   "outputs": [
    {
     "data": {
      "text/html": [
       "<div>\n",
       "<style scoped>\n",
       "    .dataframe tbody tr th:only-of-type {\n",
       "        vertical-align: middle;\n",
       "    }\n",
       "\n",
       "    .dataframe tbody tr th {\n",
       "        vertical-align: top;\n",
       "    }\n",
       "\n",
       "    .dataframe thead th {\n",
       "        text-align: right;\n",
       "    }\n",
       "</style>\n",
       "<table border=\"1\" class=\"dataframe\">\n",
       "  <thead>\n",
       "    <tr style=\"text-align: right;\">\n",
       "      <th></th>\n",
       "      <th>ID</th>\n",
       "      <th>CURR_AGE</th>\n",
       "      <th>GENDER</th>\n",
       "      <th>ANN_INCOME</th>\n",
       "      <th>AGE_PHN</th>\n",
       "      <th>PURCHASE</th>\n",
       "    </tr>\n",
       "  </thead>\n",
       "  <tbody>\n",
       "    <tr>\n",
       "      <th>0</th>\n",
       "      <td>00001Q15YJ</td>\n",
       "      <td>50</td>\n",
       "      <td>M</td>\n",
       "      <td>445344.000000</td>\n",
       "      <td>439</td>\n",
       "      <td>0</td>\n",
       "    </tr>\n",
       "    <tr>\n",
       "      <th>1</th>\n",
       "      <td>00003I71CQ</td>\n",
       "      <td>35</td>\n",
       "      <td>M</td>\n",
       "      <td>107634.000000</td>\n",
       "      <td>283</td>\n",
       "      <td>0</td>\n",
       "    </tr>\n",
       "    <tr>\n",
       "      <th>2</th>\n",
       "      <td>00003N47FS</td>\n",
       "      <td>59</td>\n",
       "      <td>F</td>\n",
       "      <td>502786.666667</td>\n",
       "      <td>390</td>\n",
       "      <td>1</td>\n",
       "    </tr>\n",
       "    <tr>\n",
       "      <th>3</th>\n",
       "      <td>00005H41DE</td>\n",
       "      <td>43</td>\n",
       "      <td>M</td>\n",
       "      <td>585664.000000</td>\n",
       "      <td>475</td>\n",
       "      <td>0</td>\n",
       "    </tr>\n",
       "    <tr>\n",
       "      <th>4</th>\n",
       "      <td>00007E17UM</td>\n",
       "      <td>39</td>\n",
       "      <td>F</td>\n",
       "      <td>705722.666667</td>\n",
       "      <td>497</td>\n",
       "      <td>1</td>\n",
       "    </tr>\n",
       "  </tbody>\n",
       "</table>\n",
       "</div>"
      ],
      "text/plain": [
       "           ID  CURR_AGE GENDER     ANN_INCOME  AGE_PHN  PURCHASE\n",
       "0  00001Q15YJ        50      M  445344.000000      439         0\n",
       "1  00003I71CQ        35      M  107634.000000      283         0\n",
       "2  00003N47FS        59      F  502786.666667      390         1\n",
       "3  00005H41DE        43      M  585664.000000      475         0\n",
       "4  00007E17UM        39      F  705722.666667      497         1"
      ]
     },
     "execution_count": 25,
     "metadata": {},
     "output_type": "execute_result"
    }
   ],
   "source": [
    "df_CN=pd.read_excel(r\"C:\\Users\\HP\\Downloads\\China_Excel.xlsx\")\n",
    "df_CN.head()"
   ]
  },
  {
   "cell_type": "markdown",
   "id": "b12d3a73-e8e7-4671-854b-f10097550f69",
   "metadata": {},
   "source": [
    "# 🧹 Data Preprocessing"
   ]
  },
  {
   "cell_type": "code",
   "execution_count": 26,
   "id": "f735cc04-4441-48db-8582-aefad1703bed",
   "metadata": {},
   "outputs": [],
   "source": [
    "def preprocess(df):\n",
    "    df = df.copy()\n",
    "    df.drop(columns=['ID'], inplace=True)\n",
    "    df['GENDER'] = df['GENDER'].map({'M': 0, 'F': 1})\n",
    "    return df\n",
    "\n",
    "df_CN_clean = preprocess(df_CN)\n",
    "df_IN_clean = preprocess(df_IN)\n",
    "\n",
    "# Drop 'DT_OLD_PURCHASE' in Indian dataset for clustering\n",
    "df_IN_clean.drop(columns=['DT_OLD_PURCHASE'], inplace=True)\n"
   ]
  },
  {
   "cell_type": "markdown",
   "id": "f5b63222-84e9-4424-a244-24c411eab8c9",
   "metadata": {},
   "source": [
    "# 📊 Exploratory Data Analysis (EDA)"
   ]
  },
  {
   "cell_type": "code",
   "execution_count": 27,
   "id": "2193bf5b-1a4f-404a-9810-5519ff122ca7",
   "metadata": {},
   "outputs": [
    {
     "data": {
      "image/png": "[encoded data removed]",
      "text/plain": [
       "<Figure size 640x480 with 1 Axes>"
      ]
     },
     "metadata": {},
     "output_type": "display_data"
    },
    {
     "data": {
      "image/png": "[encoded data removed]",
      "text/plain": [
       "<Figure size 640x480 with 1 Axes>"
      ]
     },
     "metadata": {},
     "output_type": "display_data"
    },
    {
     "data": {
      "image/png": "[encoded data removed]",
      "text/plain": [
       "<Figure size 640x480 with 1 Axes>"
      ]
     },
     "metadata": {},
     "output_type": "display_data"
    }
   ],
   "source": [
    "import seaborn as sns\n",
    "import matplotlib.pyplot as plt\n",
    "\n",
    "# Univariate Analysis\n",
    "sns.histplot(df_CN_clean['CURR_AGE']); plt.title(\"Age Distribution - China\")\n",
    "plt.show()\n",
    "sns.histplot(df_CN_clean['ANN_INCOME']); plt.title(\"Income Distribution - China\")\n",
    "plt.show()\n",
    "\n",
    "# Bivariate Analysis\n",
    "sns.boxplot(x='PURCHASE', y='ANN_INCOME', data=df_CN_clean)\n",
    "plt.title(\"Purchase vs Income\"); plt.show()\n"
   ]
  },
  {
   "cell_type": "markdown",
   "id": "0975e99f-a799-45dc-91b8-9de96e1f0db8",
   "metadata": {},
   "source": [
    "# 🤖  Logistic Regression Model (China Dataset)"
   ]
  },
  {
   "cell_type": "code",
   "execution_count": 28,
   "id": "66501ec0-1590-4f74-9700-6dbcbf6019bf",
   "metadata": {},
   "outputs": [
    {
     "name": "stdout",
     "output_type": "stream",
     "text": [
      "              precision    recall  f1-score   support\n",
      "\n",
      "           0       0.64      0.55      0.59      3349\n",
      "           1       0.71      0.78      0.74      4651\n",
      "\n",
      "    accuracy                           0.68      8000\n",
      "   macro avg       0.67      0.66      0.67      8000\n",
      "weighted avg       0.68      0.68      0.68      8000\n",
      "\n"
     ]
    }
   ],
   "source": [
    "from sklearn.model_selection import train_test_split\n",
    "from sklearn.linear_model import LogisticRegression\n",
    "from sklearn.metrics import classification_report\n",
    "\n",
    "# Features and Target\n",
    "X = df_CN_clean[['CURR_AGE', 'GENDER', 'ANN_INCOME', 'AGE_PHN']]\n",
    "y = df_CN_clean['PURCHASE']\n",
    "\n",
    "# Train-test split\n",
    "X_train, X_test, y_train, y_test = train_test_split(X, y, test_size=0.2, random_state=42)\n",
    "\n",
    "# Model\n",
    "log_reg = LogisticRegression(max_iter=1000)\n",
    "log_reg.fit(X_train, y_train)\n",
    "\n",
    "# Evaluation\n",
    "y_pred = log_reg.predict(X_test)\n",
    "print(classification_report(y_test, y_pred))\n"
   ]
  },
  {
   "cell_type": "markdown",
   "id": "22d2453c-387c-40c7-bc8f-10ae44b2f695",
   "metadata": {},
   "source": [
    "# 🔮  Predicting on Indian Data"
   ]
  },
  {
   "cell_type": "code",
   "execution_count": 29,
   "id": "ee317056-9206-40db-9ade-3ebbcd76b386",
   "metadata": {},
   "outputs": [],
   "source": [
    "# Add dummy AGE_PHN for IN data\n",
    "df_IN_clean['AGE_PHN'] = 365  # Placeholder\n",
    "\n",
    "# Predict\n",
    "X_IN = df_IN_clean[['CURR_AGE', 'GENDER', 'ANN_INCOME', 'AGE_PHN']]\n",
    "df_IN_clean['PRED_PURCHASE'] = log_reg.predict(X_IN)\n"
   ]
  },
  {
   "cell_type": "markdown",
   "id": "947d94b4-1501-4df0-bc4c-7c49f3cfa363",
   "metadata": {},
   "source": [
    "# 🔢 Clustering on Indian Dataset"
   ]
  },
  {
   "cell_type": "code",
   "execution_count": 30,
   "id": "83cbd058-e97d-4e33-86dd-97e6c2bfb1c5",
   "metadata": {},
   "outputs": [],
   "source": [
    "from sklearn.preprocessing import StandardScaler\n",
    "from sklearn.cluster import KMeans\n",
    "\n",
    "# Scale features\n",
    "scaler = StandardScaler()\n",
    "scaled_IN = scaler.fit_transform(df_IN_clean[['CURR_AGE', 'GENDER', 'ANN_INCOME']])\n",
    "\n",
    "# Optimal cluster number using Elbow Method (manually or auto)\n",
    "kmeans = KMeans(n_clusters=4, random_state=42)\n",
    "df_IN_clean['CLUSTER'] = kmeans.fit_predict(scaled_IN)\n"
   ]
  },
  {
   "cell_type": "markdown",
   "id": "e38cf336-725b-4ca3-8c80-aa527b576cad",
   "metadata": {},
   "source": [
    "# 📈 Cluster Analysis & Income Estimation"
   ]
  },
  {
   "cell_type": "code",
   "execution_count": 31,
   "id": "a39c6038-0fc7-4f6f-93ed-aba6556587d6",
   "metadata": {},
   "outputs": [
    {
     "data": {
      "text/html": [
       "<div>\n",
       "<style scoped>\n",
       "    .dataframe tbody tr th:only-of-type {\n",
       "        vertical-align: middle;\n",
       "    }\n",
       "\n",
       "    .dataframe tbody tr th {\n",
       "        vertical-align: top;\n",
       "    }\n",
       "\n",
       "    .dataframe thead th {\n",
       "        text-align: right;\n",
       "    }\n",
       "</style>\n",
       "<table border=\"1\" class=\"dataframe\">\n",
       "  <thead>\n",
       "    <tr style=\"text-align: right;\">\n",
       "      <th></th>\n",
       "      <th>CLUSTER</th>\n",
       "      <th>num_customers</th>\n",
       "      <th>avg_income</th>\n",
       "      <th>pred_purchases</th>\n",
       "    </tr>\n",
       "  </thead>\n",
       "  <tbody>\n",
       "    <tr>\n",
       "      <th>0</th>\n",
       "      <td>0</td>\n",
       "      <td>13475</td>\n",
       "      <td>7.447345e+05</td>\n",
       "      <td>13437</td>\n",
       "    </tr>\n",
       "    <tr>\n",
       "      <th>1</th>\n",
       "      <td>1</td>\n",
       "      <td>16551</td>\n",
       "      <td>1.099466e+06</td>\n",
       "      <td>16551</td>\n",
       "    </tr>\n",
       "    <tr>\n",
       "      <th>2</th>\n",
       "      <td>2</td>\n",
       "      <td>22862</td>\n",
       "      <td>1.050682e+06</td>\n",
       "      <td>22862</td>\n",
       "    </tr>\n",
       "    <tr>\n",
       "      <th>3</th>\n",
       "      <td>3</td>\n",
       "      <td>17112</td>\n",
       "      <td>1.645293e+06</td>\n",
       "      <td>17112</td>\n",
       "    </tr>\n",
       "  </tbody>\n",
       "</table>\n",
       "</div>"
      ],
      "text/plain": [
       "   CLUSTER  num_customers    avg_income  pred_purchases\n",
       "0        0          13475  7.447345e+05           13437\n",
       "1        1          16551  1.099466e+06           16551\n",
       "2        2          22862  1.050682e+06           22862\n",
       "3        3          17112  1.645293e+06           17112"
      ]
     },
     "execution_count": 31,
     "metadata": {},
     "output_type": "execute_result"
    }
   ],
   "source": [
    "# Group-wise stats\n",
    "cluster_summary = df_IN_clean.groupby('CLUSTER').agg(\n",
    "    num_customers=('CLUSTER', 'count'),\n",
    "    avg_income=('ANN_INCOME', 'mean'),\n",
    "    pred_purchases=('PRED_PURCHASE', 'sum')\n",
    ").reset_index()\n",
    "\n",
    "cluster_summary\n"
   ]
  },
  {
   "cell_type": "markdown",
   "id": "6dda95e9-f115-4985-99d3-cd8d385df8ce",
   "metadata": {},
   "source": [
    "# ✅ Final Market Entry Recommendation"
   ]
  },
  {
   "cell_type": "code",
   "execution_count": 32,
   "id": "50fb0ec5-57b5-4222-aede-2ff691ff225f",
   "metadata": {},
   "outputs": [
    {
     "name": "stdout",
     "output_type": "stream",
     "text": [
      "Total Predicted Buyers in India: 69962\n",
      "✅ Recommendation: Enter the Indian Market\n"
     ]
    }
   ],
   "source": [
    "# Total predicted buyers in Indian dataset\n",
    "total_predicted_buyers = df_IN_clean['PRED_PURCHASE'].sum()\n",
    "print(f\"Total Predicted Buyers in India: {int(total_predicted_buyers)}\")\n",
    "\n",
    "# Decision logic (you can refine it)\n",
    "if total_predicted_buyers > 10000:  # arbitrary business logic\n",
    "    print(\"✅ Recommendation: Enter the Indian Market\")\n",
    "else:\n",
    "    print(\"❌ Recommendation: Do NOT Enter the Indian Market\")\n"
   ]
  },
  {
   "cell_type": "markdown",
   "id": "d9172f2a-3224-4167-8cbe-70ddfb967525",
   "metadata": {},
   "source": [
    "## 📌 Conclusion\n",
    "\n",
    "Based on our analysis, the logistic regression model achieved a solid accuracy of **68%**, with strong performance in identifying potential buyers (F1-score: **0.74** for class 1). Applying this model to the Indian market revealed a significant **69,962 predicted buyers**.\n",
    "\n",
    "Clustering further segmented the market into 4 distinct customer groups. Notably, **Clusters 1, 2, and 3** showed high average incomes and 100% purchase intent, indicating strong revenue potential.\n",
    "\n",
    "> **✅ Final Recommendation:** The company should confidently enter the Indian mobile market.  \n",
    "> The data highlights a large, high-income consumer base with strong purchase likelihood.\n"
   ]
  },
  {
   "cell_type": "code",
   "execution_count": null,
   "id": "785baca9-31d0-45cd-8ad4-5392a462d0a9",
   "metadata": {},
   "outputs": [],
   "source": []
  }
 ],
 "metadata": {
  "kernelspec": {
   "display_name": "Python 3 (ipykernel)",
   "language": "python",
   "name": "python3"
  },
  "language_info": {
   "codemirror_mode": {
    "name": "ipython",
    "version": 3
   },
   "file_extension": ".py",
   "mimetype": "text/x-python",
   "name": "python",
   "nbconvert_exporter": "python",
   "pygments_lexer": "ipython3",
   "version": "3.12.7"
  }
 },
 "nbformat": 4,
 "nbformat_minor": 5
}
